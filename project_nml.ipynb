{
 "cells": [
  {
   "cell_type": "code",
   "execution_count": null,
   "metadata": {
    "execution": {
     "iopub.execute_input": "2021-06-27T12:31:19.139959Z",
     "iopub.status.busy": "2021-06-27T12:31:19.139549Z",
     "iopub.status.idle": "2021-06-27T12:31:19.223629Z",
     "shell.execute_reply": "2021-06-27T12:31:19.222758Z",
     "shell.execute_reply.started": "2021-06-27T12:31:19.139924Z"
    }
   },
   "outputs": [],
   "source": [
    "import pandas as pd\n",
    "import numpy as np\n",
    "import matplotlib.pyplot as plt\n",
    "import matplotlib.image as mpimg\n",
    "import glob\n",
    "%matplotlib inline\n",
    "import random\n",
    "import os\n",
    "import torch\n",
    "from torch import nn\n",
    "from torch import optim\n",
    "import torch.nn.functional as F\n",
    "from torchvision import datasets, transforms, models\n",
    "import torchvision.models as models\n",
    "import seaborn as sns\n",
    "from sklearn.metrics import confusion_matrix"
   ]
  },
  {
   "cell_type": "markdown",
   "metadata": {},
   "source": [
    "# **Data Preparation**"
   ]
  },
  {
   "cell_type": "code",
   "execution_count": null,
   "metadata": {
    "execution": {
     "iopub.execute_input": "2021-06-27T11:33:30.912487Z",
     "iopub.status.busy": "2021-06-27T11:33:30.912093Z",
     "iopub.status.idle": "2021-06-27T11:33:30.917358Z",
     "shell.execute_reply": "2021-06-27T11:33:30.916347Z",
     "shell.execute_reply.started": "2021-06-27T11:33:30.91245Z"
    }
   },
   "outputs": [],
   "source": [
    "train = '/kaggle/input/intel-image-classification/seg_train/seg_train'\n",
    "test =  '/kaggle/input/intel-image-classification/seg_test/seg_test'\n",
    "pred = '/kaggle/input/intel-image-classification/seg_pred/seg_pred'"
   ]
  },
  {
   "cell_type": "code",
   "execution_count": null,
   "metadata": {
    "execution": {
     "iopub.execute_input": "2021-06-27T08:44:50.168341Z",
     "iopub.status.busy": "2021-06-27T08:44:50.167989Z",
     "iopub.status.idle": "2021-06-27T08:44:54.446659Z",
     "shell.execute_reply": "2021-06-27T08:44:54.445713Z",
     "shell.execute_reply.started": "2021-06-27T08:44:50.16831Z"
    }
   },
   "outputs": [],
   "source": [
    "images = []\n",
    "for folder in os.listdir(train):\n",
    "    for image in os.listdir(train + '/' + folder):\n",
    "        images.append(os.path.join(train, folder, image))\n",
    "\n",
    "plt.figure(figsize=(20,20))\n",
    "\n",
    "for i in range(16):\n",
    "    random_img = random.choice(images)\n",
    "    imgs = mpimg.imread(random_img)\n",
    "    plt.subplot(4, 4, i+1)\n",
    "    plt.imshow(imgs)\n",
    "plt.show()"
   ]
  },
  {
   "cell_type": "code",
   "execution_count": null,
   "metadata": {
    "execution": {
     "iopub.execute_input": "2021-06-27T08:45:03.410718Z",
     "iopub.status.busy": "2021-06-27T08:45:03.410311Z",
     "iopub.status.idle": "2021-06-27T08:45:03.497352Z",
     "shell.execute_reply": "2021-06-27T08:45:03.496412Z",
     "shell.execute_reply.started": "2021-06-27T08:45:03.410678Z"
    }
   },
   "outputs": [],
   "source": [
    "x=0\n",
    "for folder in  os.listdir(train) : \n",
    "    files = glob.glob(pathname= str(train +'/'+ folder + '/*.jpg'))\n",
    "    print(f'In the train folder, there are {len(files)} images inside the folder {folder}')\n",
    "    x=x+len(files)\n",
    "print(f'In the train folder, there are a total of',x ,'images')"
   ]
  },
  {
   "cell_type": "code",
   "execution_count": null,
   "metadata": {
    "execution": {
     "iopub.execute_input": "2021-06-27T08:44:59.732883Z",
     "iopub.status.busy": "2021-06-27T08:44:59.732555Z",
     "iopub.status.idle": "2021-06-27T08:45:00.58624Z",
     "shell.execute_reply": "2021-06-27T08:45:00.585329Z",
     "shell.execute_reply.started": "2021-06-27T08:44:59.732854Z"
    }
   },
   "outputs": [],
   "source": [
    "x=0\n",
    "for folder in  os.listdir(test) : \n",
    "    files = glob.glob(pathname= str(test +'/'+ folder + '/*.jpg'))\n",
    "    x=x+len(files)\n",
    "    print(f'In the test folder, there are {len(files)} images inside the folder {folder}')\n",
    "print(f'In the test folder, there are a total of',x ,'images')"
   ]
  },
  {
   "cell_type": "code",
   "execution_count": null,
   "metadata": {
    "execution": {
     "iopub.execute_input": "2021-06-27T08:45:06.082521Z",
     "iopub.status.busy": "2021-06-27T08:45:06.082146Z",
     "iopub.status.idle": "2021-06-27T08:45:06.612043Z",
     "shell.execute_reply": "2021-06-27T08:45:06.611234Z",
     "shell.execute_reply.started": "2021-06-27T08:45:06.082485Z"
    }
   },
   "outputs": [],
   "source": [
    "files = glob.glob(pathname= str(pred +'/*.jpg'))\n",
    "print(f'In the prediction folder , there are a total of {len(files)} images')"
   ]
  },
  {
   "cell_type": "markdown",
   "metadata": {},
   "source": [
    "# **Model definition**"
   ]
  },
  {
   "cell_type": "code",
   "execution_count": null,
   "metadata": {
    "execution": {
     "iopub.execute_input": "2021-06-27T11:33:35.501577Z",
     "iopub.status.busy": "2021-06-27T11:33:35.501202Z",
     "iopub.status.idle": "2021-06-27T11:33:52.064052Z",
     "shell.execute_reply": "2021-06-27T11:33:52.063223Z",
     "shell.execute_reply.started": "2021-06-27T11:33:35.501544Z"
    }
   },
   "outputs": [],
   "source": [
    "train_transforms = transforms.Compose([transforms.Resize(255),\n",
    "                                       transforms.RandomResizedCrop(224),\n",
    "                                       transforms.ToTensor(),\n",
    "                                       transforms.Normalize([0.485, 0.456, 0.406],\n",
    "                                                            [0.229, 0.224, 0.225])])\n",
    "\n",
    "test_transforms = transforms.Compose([transforms.Resize(255),\n",
    "                                      transforms.RandomResizedCrop(224),\n",
    "                                      transforms.ToTensor(),\n",
    "                                      transforms.Normalize([0.485, 0.456, 0.406],\n",
    "                                                           [0.229, 0.224, 0.225])])\n",
    "\n",
    "train_data = datasets.ImageFolder(train, transform=train_transforms)\n",
    "test_data = datasets.ImageFolder(test, transform=test_transforms)\n",
    "\n",
    "\n",
    "trainloader = torch.utils.data.DataLoader(train_data, batch_size=16, shuffle=True)\n",
    "testloader = torch.utils.data.DataLoader(test_data, batch_size=16)\n"
   ]
  },
  {
   "cell_type": "code",
   "execution_count": null,
   "metadata": {
    "execution": {
     "iopub.execute_input": "2021-06-27T11:33:54.318185Z",
     "iopub.status.busy": "2021-06-27T11:33:54.31784Z",
     "iopub.status.idle": "2021-06-27T11:34:18.870013Z",
     "shell.execute_reply": "2021-06-27T11:34:18.86905Z",
     "shell.execute_reply.started": "2021-06-27T11:33:54.318153Z"
    }
   },
   "outputs": [],
   "source": [
    "model = models.resnet152(pretrained=True)\n",
    "model"
   ]
  },
  {
   "cell_type": "code",
   "execution_count": null,
   "metadata": {
    "execution": {
     "iopub.execute_input": "2021-06-27T13:22:27.389528Z",
     "iopub.status.busy": "2021-06-27T13:22:27.389156Z",
     "iopub.status.idle": "2021-06-27T13:22:27.414729Z",
     "shell.execute_reply": "2021-06-27T13:22:27.413866Z",
     "shell.execute_reply.started": "2021-06-27T13:22:27.389495Z"
    }
   },
   "outputs": [],
   "source": [
    "import torch.optim as optim\n",
    "\n",
    "device = torch.device(\"cuda\" if torch.cuda.is_available() else \"cpu\")\n",
    "\n",
    "for param in model.parameters():\n",
    "    param.requires_grad = False\n",
    "\n",
    "model.fc = nn.Sequential(nn.Linear(2048, 6),\n",
    "                         nn.LogSoftmax(dim=1))\n",
    "\n",
    "\n",
    "criterion = nn.NLLLoss()\n",
    "\n",
    "model.to(device)\n",
    "\n",
    "optimizer = optim.Adam(model.fc.parameters(), lr=0.001)"
   ]
  },
  {
   "cell_type": "markdown",
   "metadata": {},
   "source": [
    "# **Model training**"
   ]
  },
  {
   "cell_type": "code",
   "execution_count": null,
   "metadata": {
    "execution": {
     "iopub.execute_input": "2021-06-27T13:38:29.805546Z",
     "iopub.status.busy": "2021-06-27T13:38:29.805186Z",
     "iopub.status.idle": "2021-06-27T13:50:17.865071Z",
     "shell.execute_reply": "2021-06-27T13:50:17.864166Z",
     "shell.execute_reply.started": "2021-06-27T13:38:29.805517Z"
    }
   },
   "outputs": [],
   "source": [
    "epochs = 5\n",
    "steps = 0\n",
    "running_loss = 0\n",
    "\n",
    "train_losses, test_losses = [], []\n",
    "for epoch in range(epochs):\n",
    "    for inputs, labels in trainloader:\n",
    "        steps += 1\n",
    "        inputs, labels = inputs.to(device), labels.to(device)\n",
    "        \n",
    "        optimizer.zero_grad()\n",
    "        \n",
    "        logps = model.forward(inputs)\n",
    "        loss = criterion(logps, labels)\n",
    "        loss.backward()\n",
    "        optimizer.step()\n",
    "\n",
    "        running_loss += loss.item()\n",
    "        \n",
    "\n",
    "    test_loss = 0\n",
    "    accuracy = 0\n",
    "    with torch.no_grad():\n",
    "        model.eval()\n",
    "        for inputs, labels in testloader:\n",
    "            inputs, labels = inputs.to(device), labels.to(device)\n",
    "            logps = model.forward(inputs)\n",
    "            batch_loss = criterion(logps, labels)\n",
    "                    \n",
    "            test_loss += batch_loss.item()\n",
    "                    \n",
    "\n",
    "            ps = torch.exp(logps)\n",
    "            top_p, top_class = ps.topk(1, dim=1)\n",
    "            equals = top_class == labels.view(*top_class.shape)\n",
    "            accuracy += torch.mean(equals.type(torch.FloatTensor)).item()\n",
    "            \n",
    "    model.train()\n",
    "    train_losses.append(running_loss/len(trainloader))\n",
    "    test_losses.append(test_loss/len(testloader))\n",
    "    print(\"Epoch: {}/{}.. \".format(epoch+1, epochs),\n",
    "          \"Training Loss: {:.3f}.. \".format(train_losses[-1]),\n",
    "          \"Test Loss: {:.3f}.. \".format(test_losses[-1]),\n",
    "          \"Test Accuracy: {:.3f}\".format(accuracy/len(testloader)))\n",
    "    running_loss = 0"
   ]
  },
  {
   "cell_type": "markdown",
   "metadata": {},
   "source": [
    "# **Model evaulation after training**"
   ]
  },
  {
   "cell_type": "code",
   "execution_count": null,
   "metadata": {
    "execution": {
     "iopub.execute_input": "2021-06-27T13:50:21.206519Z",
     "iopub.status.busy": "2021-06-27T13:50:21.206172Z",
     "iopub.status.idle": "2021-06-27T13:50:21.346959Z",
     "shell.execute_reply": "2021-06-27T13:50:21.345981Z",
     "shell.execute_reply.started": "2021-06-27T13:50:21.206489Z"
    }
   },
   "outputs": [],
   "source": [
    "import matplotlib.pyplot as plt\n",
    "import matplotlib.ticker as ticker\n",
    "\n",
    "plt.figure()\n",
    "plt.plot(test_losses, label='Test Loss')\n",
    "plt.plot(train_losses, label='Train Loss')\n",
    "plt.xlabel(\"epoch\")\n",
    "plt.ylabel(\"Loss\")"
   ]
  },
  {
   "cell_type": "code",
   "execution_count": null,
   "metadata": {
    "execution": {
     "iopub.execute_input": "2021-06-27T13:50:23.488526Z",
     "iopub.status.busy": "2021-06-27T13:50:23.488175Z",
     "iopub.status.idle": "2021-06-27T13:50:49.006927Z",
     "shell.execute_reply": "2021-06-27T13:50:49.005982Z",
     "shell.execute_reply.started": "2021-06-27T13:50:23.488495Z"
    }
   },
   "outputs": [],
   "source": [
    "y_pred_list = []\n",
    "y_true_list = []\n",
    "with torch.no_grad():\n",
    "    for inp, labels in testloader:\n",
    "            inp, labels = inp.to(device), labels.to(device)\n",
    "            y_test_pred = model(inp)\n",
    "            _, y_pred_tag = torch.max(y_test_pred, dim = 1)\n",
    "            y_pred_list.append(y_pred_tag.cpu().numpy())\n",
    "            y_true_list.append(labels.cpu().numpy())\n",
    "\n",
    "flat_pred = []\n",
    "flat_true = []\n",
    "for i in range(len(y_pred_list)):\n",
    "    for j in range(len(y_pred_list[i])):\n",
    "        flat_pred.append(y_pred_list[i][j])\n",
    "        flat_true.append(y_true_list[i][j])"
   ]
  },
  {
   "cell_type": "code",
   "execution_count": null,
   "metadata": {
    "execution": {
     "iopub.execute_input": "2021-06-27T13:50:55.507036Z",
     "iopub.status.busy": "2021-06-27T13:50:55.506725Z",
     "iopub.status.idle": "2021-06-27T13:50:55.898449Z",
     "shell.execute_reply": "2021-06-27T13:50:55.897646Z",
     "shell.execute_reply.started": "2021-06-27T13:50:55.507008Z"
    }
   },
   "outputs": [],
   "source": [
    "outcomes = os.listdir(train)\n",
    "fig = plt.figure(figsize=(10,10))\n",
    "cm = confusion_matrix(flat_true,flat_pred)\n",
    "ax=sns.heatmap(cm,fmt=' ',annot=True,cmap='Blues')\n",
    "ax.invert_yaxis()\n",
    "ax.set_xticklabels(outcomes,rotation=90)\n",
    "ax.set_yticklabels(outcomes,rotation=0)\n",
    "ax.set_xlabel('Actual Category')\n",
    "ax.set_ylabel('Predicted Category')\n",
    "ax.set_title('Actual Vs Predicted Category')\n",
    "plt.show()"
   ]
  },
  {
   "cell_type": "markdown",
   "metadata": {},
   "source": [
    "# **Observation and comments**\n",
    "\n",
    "As we can see the model is having some trouble with sea/buildings and glacier/mountain, but the rest is predicted well. I am overall satisfied with the results\n",
    "\n"
   ]
  }
 ],
 "metadata": {
  "kernelspec": {
   "display_name": "Python 3",
   "language": "python",
   "name": "python3"
  },
  "language_info": {
   "codemirror_mode": {
    "name": "ipython",
    "version": 3
   },
   "file_extension": ".py",
   "mimetype": "text/x-python",
   "name": "python",
   "nbconvert_exporter": "python",
   "pygments_lexer": "ipython3",
   "version": "3.7.7"
  }
 },
 "nbformat": 4,
 "nbformat_minor": 4
}
